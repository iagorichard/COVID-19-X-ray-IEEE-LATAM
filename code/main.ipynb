{
 "cells": [
  {
   "cell_type": "code",
   "execution_count": null,
   "metadata": {},
   "outputs": [],
   "source": [
    "# import matplotlib for when it's necessary to plot images, graphics, figures, etc.\n",
    "import matplotlib\n",
    "matplotlib.use(\"Agg\")\n",
    " \n",
    "# change enviroment path\n",
    "import os\n",
    "\n",
    "# format output data for Keras classification\n",
    "from keras.utils import to_categorical\n",
    "\n",
    "# necessary imports for managing Keras models\n",
    "from tensorflow.keras.models import Sequential, Model, model_from_json\n",
    "\n",
    "# layers type that can be used for block the network\n",
    "from tensorflow.keras.layers import Conv2D, MaxPooling2D, GlobalAveragePooling2D, Flatten, Dense, Activation, Dropout\n",
    "\n",
    "# transfer learning architectures\n",
    "from tensorflow.keras.applications import VGG16, VGG19, ResNet50, InceptionV3, MobileNet, ResNet50\n",
    "from tensorflow.keras.applications.inception_v3 import InceptionV3\n",
    "from tensorflow.keras.applications.densenet import DenseNet121\n",
    "\n",
    "# data generator for data augmentation\n",
    "from keras.preprocessing.image import ImageDataGenerator\n",
    "\n",
    "# network optimizer\n",
    "from tensorflow.keras.optimizers import Adam\n",
    "\n",
    "# model validation\n",
    "from sklearn.model_selection import StratifiedKFold\n",
    "\n",
    "# managing images\n",
    "from tensorflow.keras.preprocessing.image import img_to_array\n",
    "from imutils import paths\n",
    "import cv2\n",
    "import random\n",
    "from tensorflow.keras.preprocessing import image\n",
    "\n",
    "# tensorflow\n",
    "import tensorflow as tf\n",
    "from tensorflow.keras import backend as K\n",
    "\n",
    "# numpy \n",
    "import numpy as np\n",
    "\n",
    "# metrics\n",
    "from sklearn.metrics import classification_report, confusion_matrix"
   ]
  },
  {
   "cell_type": "code",
   "execution_count": null,
   "metadata": {},
   "outputs": [],
   "source": [
    "# change folder where is the data\n",
    "os.chdir(\"../database/\")\n",
    "\n",
    "# general parameters\n",
    "EPOCHS = 50\n",
    "BS = 32\n",
    "\n",
    "# image input for resizing\n",
    "HEIGHT = 256\n",
    "WIDTH = 256\n",
    "INPUT_SHAPE = (WIDTH,HEIGHT,3)"
   ]
  },
  {
   "cell_type": "code",
   "execution_count": null,
   "metadata": {},
   "outputs": [],
   "source": [
    "# this function get the data for training and classification\n",
    "# this returns: array of images, array of their labels\n",
    "def get_data(path_data):\n",
    "    # initialize the data and labels\n",
    "    print(\"[INFO] loading images...\")\n",
    "    data = []\n",
    "    labels = []\n",
    "     \n",
    "    # grab the image paths and randomly shuffle them\n",
    "    imagePaths = sorted(list(paths.list_images(path_data)))\n",
    "    random.seed(42)\n",
    "    random.shuffle(imagePaths)\n",
    "\n",
    "    # loop over the input images\n",
    "    for imagePath in imagePaths:\n",
    "        \n",
    "        # read the image\n",
    "        image = cv2.imread(imagePath)\n",
    "        # resize it\n",
    "        image = cv2.resize(image, (HEIGHT,WIDTH)) \n",
    "        image = img_to_array(image)\n",
    "        \n",
    "        #if working on linux, use the following line\n",
    "        label = imagePath.split(\"/\")[-2]\n",
    "        \n",
    "        #if working on windows, use the following line\n",
    "        #label = imagePath.split(\"\\\\\")[-2]\n",
    "        \n",
    "        \n",
    "        #FOR MULTICLASS CLASSIFICATION USE THE CODE BELLOW\n",
    "        if label == \"NORMAL\":\n",
    "            label = 0\n",
    "            # adding the image into array\n",
    "            data.append(image)\n",
    "            labels.append(label)\n",
    "        elif label == \"COVID-19\":\n",
    "            label = 1\n",
    "            data.append(image)\n",
    "            labels.append(label)\n",
    "        elif label == \"VIRAL\":\n",
    "            label = 2\n",
    "            data.append(image)\n",
    "            labels.append(label)\n",
    "        \n",
    "        '''     \n",
    "        #FOR VIRAL VS COVID USE THE CODE BELLOW\n",
    "        if label == \"VIRAL\":\n",
    "            label = 0\n",
    "            data.append(image)\n",
    "            labels.append(label)\n",
    "        elif label == \"COVID-19\":\n",
    "            label = 1\n",
    "            data.append(image)\n",
    "            labels.append(label)\n",
    "        '''\n",
    "        '''\n",
    "        #FOR NORMAL VS COVID USE THE CODE BELLOW\n",
    "        if label == \"NORMAL\":\n",
    "            label = 0\n",
    "            data.append(image)\n",
    "            labels.append(label)\n",
    "        elif label == \"COVID-19\":\n",
    "            label = 1\n",
    "            data.append(image)\n",
    "            labels.append(label)\n",
    "        '''\n",
    "        \n",
    "\n",
    "    # scale the raw pixel intensities to the range [0, 1]\n",
    "    data = np.array(data, dtype=\"float16\") / 255.0\n",
    "    labels = np.array(labels)\n",
    "\n",
    "    return data, labels"
   ]
  },
  {
   "cell_type": "code",
   "execution_count": null,
   "metadata": {},
   "outputs": [],
   "source": [
    "# this function defines the transfer learning model based on vgg16 + 2 dense layers\n",
    "def get_vgg16_model():\n",
    "    conv_base = VGG16(input_shape=INPUT_SHAPE, include_top = False, weights='imagenet')\n",
    "\n",
    "    #freezing the weights of the original vgg16 model\n",
    "    for layer in conv_base.layers:\n",
    "        layer.trainable = False\n",
    "\n",
    "    x = conv_base.output\n",
    "    x = GlobalAveragePooling2D()(x)\n",
    "    x = Dense(256, activation='relu')(x) \n",
    "    x = Dense(256, activation='relu')(x) \n",
    "    \n",
    "    # use this line bellow for binary classification\n",
    "    predictions = Dense(2, activation='sigmoid')(x)\n",
    "    # use this line bellow for multiclass classification\n",
    "    #predictions = Dense(3, activation='sigmoid')(x)\n",
    "    modelVGG16 = Model(conv_base.input, predictions)\n",
    "    \n",
    "    return modelVGG16"
   ]
  },
  {
   "cell_type": "code",
   "execution_count": null,
   "metadata": {},
   "outputs": [],
   "source": [
    "# this function defines the transfer learning model based on vgg19 + 2 dense layers\n",
    "def get_vgg19_model():\n",
    "    conv_base = VGG19(input_shape=INPUT_SHAPE, include_top = False, weights='imagenet')\n",
    "\n",
    "    for layer in conv_base.layers:\n",
    "        layer.trainable = False\n",
    "\n",
    "    x = conv_base.output\n",
    "    x = GlobalAveragePooling2D()(x)\n",
    "    x = Dense(256, activation='relu')(x) \n",
    "    x = Dense(256, activation='relu')(x) \n",
    "    \n",
    "    # use this line bellow for binary classification\n",
    "    predictions = Dense(2, activation='sigmoid')(x)\n",
    "    # use this line bellow for multiclass classification\n",
    "    #predictions = Dense(3, activation='sigmoid')(x)\n",
    "    modelVGG19 = Model(conv_base.input, predictions)\n",
    "    \n",
    "    return modelVGG19"
   ]
  },
  {
   "cell_type": "code",
   "execution_count": null,
   "metadata": {},
   "outputs": [],
   "source": [
    "# this function defines the transfer learning model based on mobilenet + 2 dense layers\n",
    "def get_mobilenet_model():\n",
    "\n",
    "    conv_base = MobileNet(\n",
    "        include_top=False,\n",
    "        weights='imagenet')\n",
    "\n",
    "    #freezing the weights\n",
    "    for layer in conv_base.layers:\n",
    "        layer.trainable = False\n",
    "\n",
    "    x = conv_base.output\n",
    "    x = GlobalAveragePooling2D()(x)\n",
    "    x = Dense(256, activation='relu')(x) \n",
    "    x = Dense(256, activation='relu')(x) \n",
    "    \n",
    "    # use this line bellow for binary classification\n",
    "    predictions = Dense(2, activation='sigmoid')(x)\n",
    "    # use this line bellow for multiclass classification\n",
    "    #predictions = Dense(3, activation='sigmoid')(x)\n",
    "    modelMobileNet = Model(conv_base.input, predictions)\n",
    "\n",
    "    return modelMobileNet"
   ]
  },
  {
   "cell_type": "code",
   "execution_count": null,
   "metadata": {},
   "outputs": [],
   "source": [
    "# this function defines the transfer learning model based on resnet50 + 2 dense layers\n",
    "def get_resnet50_model():\n",
    "\n",
    "    conv_base = ResNet50(\n",
    "        include_top=False,\n",
    "        weights='imagenet')\n",
    "\n",
    "    #freezing the weights\n",
    "    for layer in conv_base.layers:\n",
    "        layer.trainable = False\n",
    "\n",
    "    x = conv_base.output\n",
    "    x = GlobalAveragePooling2D()(x)\n",
    "    x = Dense(256, activation='relu')(x) \n",
    "    x = Dense(256, activation='relu')(x) \n",
    "    \n",
    "    # use this line bellow for binary classification\n",
    "    predictions = Dense(2, activation='sigmoid')(x)\n",
    "    # use this line bellow for multiclass classification\n",
    "    #predictions = Dense(3, activation='sigmoid')(x)\n",
    "    modelMobileNet = Model(conv_base.input, predictions)\n",
    "\n",
    "    return modelMobileNet"
   ]
  },
  {
   "cell_type": "code",
   "execution_count": null,
   "metadata": {},
   "outputs": [],
   "source": [
    "# this function defines the transfer learning model based on inceptionv3 + 2 dense layers\n",
    "def get_InceptionV3_model():\n",
    "\n",
    "    conv_base = InceptionV3(\n",
    "        include_top=False,\n",
    "        weights='imagenet')\n",
    "\n",
    "    #freezing the weights\n",
    "    for layer in conv_base.layers:\n",
    "        layer.trainable = False\n",
    "\n",
    "    x = conv_base.output\n",
    "    x = GlobalAveragePooling2D()(x)\n",
    "    x = Dense(256, activation='relu')(x) \n",
    "    x = Dense(256, activation='relu')(x) \n",
    "    \n",
    "    # use this line bellow for binary classification\n",
    "    predictions = Dense(2, activation='sigmoid')(x)\n",
    "    # use this line bellow for multiclass classification\n",
    "    #predictions = Dense(3, activation='sigmoid')(x)\n",
    "    modelMobileNet = Model(conv_base.input, predictions)\n",
    "\n",
    "    return modelMobileNet"
   ]
  },
  {
   "cell_type": "code",
   "execution_count": null,
   "metadata": {},
   "outputs": [],
   "source": [
    "# this function defines the transfer learning model based on densenet + 2 dense layers\n",
    "def get_DenseNet121_model():\n",
    "\n",
    "    conv_base = DenseNet121(\n",
    "        include_top=False,\n",
    "        weights='imagenet')\n",
    "\n",
    "    #freezing the weights\n",
    "    for layer in conv_base.layers:\n",
    "        layer.trainable = False\n",
    "\n",
    "    x = conv_base.output\n",
    "    x = GlobalAveragePooling2D()(x)\n",
    "    x = Dense(256, activation='relu')(x) \n",
    "    x = Dense(256, activation='relu')(x) \n",
    "    \n",
    "    # use this line bellow for binary classification\n",
    "    predictions = Dense(2, activation='sigmoid')(x)\n",
    "    # use this line bellow for multiclass classification\n",
    "    #predictions = Dense(3, activation='sigmoid')(x)\n",
    "    modelMobileNet = Model(conv_base.input, predictions)\n",
    "\n",
    "    return modelMobileNet"
   ]
  },
  {
   "cell_type": "code",
   "execution_count": null,
   "metadata": {},
   "outputs": [],
   "source": [
    "# code for saving the model for each fold of cross validation\n",
    "# the model name will be saved with namemodel + step fold validation\n",
    "def save_model(name, model):\n",
    "\n",
    "    model_json = model.to_json()\n",
    "    with open(\"../Models/\"+name+\".json\", \"w\") as json_file:\n",
    "        json_file.write(model_json)\n",
    "    \n",
    "    model.save_weights(\"../Models/\"+name\".h5\")\n",
    "    print(\"Saved model \"+name+\" to disk\")"
   ]
  },
  {
   "cell_type": "code",
   "execution_count": null,
   "metadata": {},
   "outputs": [],
   "source": [
    "# this function makes the cross validation training\n",
    "def cross_validation(X,y,model_type,k_folds,name):\n",
    "    print(\"[INFO] Preparing the fold\")\n",
    "    \n",
    "    # K=0\n",
    "    kf = StratifiedKFold(n_splits=10, shuffle=True, random_state=1)\n",
    "    kf.get_n_splits(data)\n",
    "    \n",
    "    print(\"[INFO] Starting the cross-validation...\")\n",
    "    i = 1\n",
    "    for train_index, test_index in kf.split(X,y):\n",
    "        trainData = X[train_index]\n",
    "        testData = X[test_index]\n",
    "        trainLabels = y[train_index]\n",
    "        testLabels = y[test_index]\n",
    "        \n",
    "        trainLabels =to_categorical(trainLabels)\n",
    "        testLabels =to_categorical(testLabels)\n",
    "\n",
    "        print(\"=========================================\")\n",
    "        print(\"====== K Fold Validation step => %d/%d =======\" % (i,10))\n",
    "        print(\"=========================================\")\n",
    "\n",
    "        # construct the image generator for data augmentation\n",
    "        generator = ImageDataGenerator(shear_range=0.2, zoom_range=0.2, horizontal_flip=True)\n",
    "        \n",
    "        #############################################################\n",
    "        model = None\n",
    "        \n",
    "        if model_type == \"vgg16\":\n",
    "            model = get_vgg16_model()\n",
    "        elif model_type == \"vgg19\":\n",
    "            model = get_vgg19_model()\n",
    "        elif model_type == \"mobilenet\":\n",
    "            model = get_mobilenet_model()\n",
    "        elif model_type == \"resnet50\":\n",
    "            model = get_resnet50_model()\n",
    "        elif model_type == \"inceptionv3\":\n",
    "            model = get_InceptionV3_model()\n",
    "        elif model_type == \"densenet\":\n",
    "            model = get_DenseNet121_model()\n",
    "        #############################################################\n",
    "        \n",
    "\n",
    "        model.compile(loss=\"binary_crossentropy\", optimizer=\"adam\", metrics=[\"accuracy\"])\n",
    "\n",
    "        print(\"[INFO] training network...\")\n",
    "        \n",
    "        # training with data augmentation\n",
    "        history = model.fit_generator(generator.flow(trainData, trainLabels, batch_size=BS),\n",
    "        validation_data=(testData, testLabels), steps_per_epoch=len(trainData) // BS,\n",
    "        epochs=50, verbose=1)\n",
    "        \n",
    "        \n",
    "        #############################################################\n",
    "        save_model(name+\"-step-fold-\"+str(i),model)\n",
    "        model = None\n",
    "        del(model)\n",
    "        #############################################################\n",
    "        \n",
    "        i+=1\n",
    "        \n",
    "    return kf"
   ]
  },
  {
   "cell_type": "code",
   "execution_count": null,
   "metadata": {},
   "outputs": [],
   "source": [
    "# gettting the data for experiments\n",
    "# please inform all way e.g. \"C:\\\\Users\\\\user\\\\folder\\\\etc...\" \n",
    "data, labels = get_data(\"/home/hosa/ownCloud/dotLab/experimental/database/\")\n",
    "\n",
    "X = data\n",
    "y = labels\n",
    "\n",
    "K = 10"
   ]
  },
  {
   "cell_type": "code",
   "execution_count": null,
   "metadata": {},
   "outputs": [],
   "source": [
    "####Execution of VGG-16\n",
    "name = \"VGG16-multi9lass\"\n",
    "folds_vgg19 = cross_validation(X,y,\"vgg16\",K,name)"
   ]
  },
  {
   "cell_type": "code",
   "execution_count": null,
   "metadata": {},
   "outputs": [],
   "source": [
    "####Execution of VGG-19\n",
    "name = \"VGG19-multiclass\"\n",
    "folds_vgg19 = cross_validation(X,y,\"vgg19\",K,name)"
   ]
  },
  {
   "cell_type": "code",
   "execution_count": null,
   "metadata": {
    "scrolled": true
   },
   "outputs": [],
   "source": [
    "####Execution of MOBILENET\n",
    "name = \"mobilenet-multiclass\"\n",
    "folds_cnn3264128 = cross_validation(X,y,\"mobilenet\",K,name)"
   ]
  },
  {
   "cell_type": "code",
   "execution_count": null,
   "metadata": {},
   "outputs": [],
   "source": [
    "####Execution of INCEPTIONV3\n",
    "name = \"inceptionv3-multiclass\"\n",
    "folds_cnn3264128 = cross_validation(X,y,\"inceptionv3\",K,name)"
   ]
  },
  {
   "cell_type": "code",
   "execution_count": null,
   "metadata": {},
   "outputs": [],
   "source": [
    "####Execution of DENSENET\n",
    "name = \"densenet-multiclass\"\n",
    "folds_cnn3264128 = cross_validation(X,y,\"densenet\",K,name)"
   ]
  },
  {
   "cell_type": "code",
   "execution_count": null,
   "metadata": {},
   "outputs": [],
   "source": [
    "####Execution of RESNET50\n",
    "name = \"resnet50-multiclass\"\n",
    "folds_cnn3264128 = cross_validation(X,y,\"resnet50\",K,name)"
   ]
  },
  {
   "cell_type": "code",
   "execution_count": null,
   "metadata": {},
   "outputs": [],
   "source": []
  },
  {
   "cell_type": "code",
   "execution_count": null,
   "metadata": {},
   "outputs": [],
   "source": []
  },
  {
   "cell_type": "code",
   "execution_count": null,
   "metadata": {},
   "outputs": [],
   "source": [
    "# this function load the saved model to memory\n",
    "def load_model(name):\n",
    "    # load json and create model\n",
    "    json_file = open(\"../Models/\"+name+'.json', 'r')\n",
    "    loaded_model_json = json_file.read()\n",
    "    json_file.close()\n",
    "    loaded_model = model_from_json(loaded_model_json)\n",
    "    \n",
    "    # load weights into new model\n",
    "    loaded_model.load_weights(\"../Models/\"+name+\".h5\")\n",
    "    \n",
    "    loaded_model.compile(optimizer='adam', loss='binary_crossentropy', \n",
    "                        metrics=['acc'])\n",
    "                         #metrics=['acc', sensitivity, specificity])\n",
    "                        \n",
    "\n",
    "    #print(\"Loaded model \"+name+\" from disk\")\n",
    "    \n",
    "    return loaded_model"
   ]
  },
  {
   "cell_type": "code",
   "execution_count": null,
   "metadata": {},
   "outputs": [],
   "source": [
    "# this function returns the accuracy, precision, recall, and f1-score of classification \n",
    "def eval(true, predicted):\n",
    "    from sklearn.metrics import precision_recall_fscore_support, accuracy_score\n",
    "    from numpy import argmax, unique\n",
    "    \n",
    "    \n",
    "    true = argmax(true,axis=1)\n",
    "    #print(unique(true))\n",
    "    predicted = argmax(predicted,axis=1)\n",
    "    #print(unique(predicted))\n",
    "    \n",
    "    acc = accuracy_score(true,predicted)\n",
    "    pcs, rec, f1, sup = precision_recall_fscore_support(true, predicted, average='weighted')\n",
    "    \n",
    "    print(str(acc*100)+\" \"+str(pcs*100)+\" \"+str(rec*100)+\" \"+str(f1*100))\n",
    "    "
   ]
  },
  {
   "cell_type": "code",
   "execution_count": null,
   "metadata": {},
   "outputs": [],
   "source": [
    "# this function loads from disk all saved models of a specific technique, then make 10 executions (10 folds) to evaluate the model\n",
    "def cross_evaluation(X,y,model_type,k_folds,name):\n",
    "    print(\"[INFO] Preparing the folds...\")\n",
    "    kf = StratifiedKFold(n_splits=10, shuffle=True, random_state=1)\n",
    "    kf.get_n_splits(data)\n",
    "    \n",
    "    print(\"[INFO] Starting the cross-evaluation for \",name+model_type, \" ....\")\n",
    "    i = 1\n",
    "    for train_index, test_index in kf.split(X,y):\n",
    "        #just consider the test data for evaluation, train data can indicate overfitting\n",
    "        testData = X[test_index]\n",
    "        testLabels = y[test_index]\n",
    "        \n",
    "        testLabels =to_categorical(testLabels)\n",
    "\n",
    "        \n",
    "        model = None\n",
    "        model = load_model(name+\"-step-fold-\"+str(i))\n",
    "        \n",
    "        pred = model.predict(testData)\n",
    "        eval(testLabels,pred)\n",
    "        \n",
    "        \n",
    "        #############################################################\n",
    "        model = None\n",
    "        del(model)\n",
    "        #############################################################\n",
    "        \n",
    "        i+=1\n",
    "        \n",
    "    return kf"
   ]
  },
  {
   "cell_type": "code",
   "execution_count": null,
   "metadata": {},
   "outputs": [],
   "source": []
  },
  {
   "cell_type": "code",
   "execution_count": null,
   "metadata": {},
   "outputs": [],
   "source": []
  },
  {
   "cell_type": "markdown",
   "metadata": {},
   "source": [
    "# Calculates the results for multiclass classification"
   ]
  },
  {
   "cell_type": "markdown",
   "metadata": {},
   "source": [
    "## please consider the full way of the model and its name (for multiclass or binary same)"
   ]
  },
  {
   "cell_type": "code",
   "execution_count": null,
   "metadata": {
    "scrolled": true
   },
   "outputs": [],
   "source": [
    "name = \"multiclass/densenet-multiclass\"\n",
    "cross_evaluation(data,y,\"densenet\",K,name)"
   ]
  },
  {
   "cell_type": "code",
   "execution_count": null,
   "metadata": {},
   "outputs": [],
   "source": [
    "name = \"multiclass/inceptionv3-multiclass\"\n",
    "cross_evaluation(data,y,\"inceptionv3\",K,name)"
   ]
  },
  {
   "cell_type": "code",
   "execution_count": null,
   "metadata": {},
   "outputs": [],
   "source": [
    "name = \"multiclass/mobilenet-multiclass\"\n",
    "cross_evaluation(data,y,\"mobilenet\",K,name)"
   ]
  },
  {
   "cell_type": "code",
   "execution_count": null,
   "metadata": {
    "scrolled": true
   },
   "outputs": [],
   "source": [
    "name = \"multiclass/resnet50-multiclass\"\n",
    "cross_evaluation(data,y,\"resnet50\",K,name)"
   ]
  },
  {
   "cell_type": "code",
   "execution_count": null,
   "metadata": {},
   "outputs": [],
   "source": [
    "name = \"multiclass/VGG16-multiclass\"\n",
    "cross_evaluation(data,y,\"VGG16\",K,name)"
   ]
  },
  {
   "cell_type": "code",
   "execution_count": null,
   "metadata": {},
   "outputs": [],
   "source": [
    "name = \"multiclass/VGG19-multiclass\"\n",
    "cross_evaluation(data,y,\"VGG19\",K,name)"
   ]
  },
  {
   "cell_type": "code",
   "execution_count": null,
   "metadata": {},
   "outputs": [],
   "source": []
  },
  {
   "cell_type": "code",
   "execution_count": null,
   "metadata": {},
   "outputs": [],
   "source": []
  },
  {
   "cell_type": "markdown",
   "metadata": {},
   "source": [
    "# Calculates the results for binary COVID vs Normal"
   ]
  },
  {
   "cell_type": "code",
   "execution_count": null,
   "metadata": {},
   "outputs": [],
   "source": [
    "name = \"covid19vsnormal/densenet-multiclass\"\n",
    "cross_evaluation(data,y,\"densenet\",K,name)"
   ]
  },
  {
   "cell_type": "code",
   "execution_count": null,
   "metadata": {},
   "outputs": [],
   "source": [
    "name = \"covid19vsnormal/inceptionv3-multiclass\"\n",
    "cross_evaluation(data,y,\"inceptionv3\",K,name)"
   ]
  },
  {
   "cell_type": "code",
   "execution_count": null,
   "metadata": {},
   "outputs": [],
   "source": [
    "name = \"covid19vsnormal/mobilenet-multiclass\"\n",
    "cross_evaluation(data,y,\"mobilenet\",K,name)"
   ]
  },
  {
   "cell_type": "code",
   "execution_count": null,
   "metadata": {},
   "outputs": [],
   "source": [
    "name = \"covid19vsnormal/resnet50-multiclass\"\n",
    "cross_evaluation(data,y,\"resnet50\",K,name)"
   ]
  },
  {
   "cell_type": "code",
   "execution_count": null,
   "metadata": {},
   "outputs": [],
   "source": [
    "name = \"covid19vsnormal/VGG16-multi9lass\"\n",
    "cross_evaluation(data,y,\"VGG16\",K,name)"
   ]
  },
  {
   "cell_type": "code",
   "execution_count": null,
   "metadata": {},
   "outputs": [],
   "source": [
    "name = \"covid19vsnormal/VGG19-multiclass\"\n",
    "cross_evaluation(data,y,\"VGG19\",K,name)"
   ]
  },
  {
   "cell_type": "code",
   "execution_count": null,
   "metadata": {},
   "outputs": [],
   "source": []
  },
  {
   "cell_type": "code",
   "execution_count": null,
   "metadata": {},
   "outputs": [],
   "source": []
  },
  {
   "cell_type": "markdown",
   "metadata": {},
   "source": [
    "# Calculates the results for COVID vs Pneum viral"
   ]
  },
  {
   "cell_type": "code",
   "execution_count": null,
   "metadata": {},
   "outputs": [],
   "source": [
    "name = \"covid19vsviral/densenet-multiclass\"\n",
    "cross_evaluation(data,y,\"densenet\",K,name)"
   ]
  },
  {
   "cell_type": "code",
   "execution_count": null,
   "metadata": {},
   "outputs": [],
   "source": [
    "name = \"covid19vsviral/inceptionv3-multiclass\"\n",
    "cross_evaluation(data,y,\"inceptionv3\",K,name)"
   ]
  },
  {
   "cell_type": "code",
   "execution_count": null,
   "metadata": {},
   "outputs": [],
   "source": [
    "name = \"covid19vsviral/mobilenet-multiclass\"\n",
    "cross_evaluation(data,y,\"mobilenet\",K,name)"
   ]
  },
  {
   "cell_type": "code",
   "execution_count": null,
   "metadata": {},
   "outputs": [],
   "source": [
    "name = \"covid19vsviral/resnet50-multiclass\"\n",
    "cross_evaluation(data,y,\"resnet50\",K,name)"
   ]
  },
  {
   "cell_type": "code",
   "execution_count": null,
   "metadata": {},
   "outputs": [],
   "source": [
    "name = \"covid19vsviral/VGG16-multiclass\"\n",
    "cross_evaluation(data,y,\"VGG16\",K,name)"
   ]
  },
  {
   "cell_type": "code",
   "execution_count": null,
   "metadata": {
    "scrolled": true
   },
   "outputs": [],
   "source": [
    "name = \"covid19vsviral/VGG19-multiclass\"\n",
    "cross_evaluation(data,y,\"VGG19\",K,name)"
   ]
  },
  {
   "cell_type": "code",
   "execution_count": null,
   "metadata": {},
   "outputs": [],
   "source": []
  },
  {
   "cell_type": "code",
   "execution_count": null,
   "metadata": {},
   "outputs": [],
   "source": []
  }
 ],
 "metadata": {
  "kernelspec": {
   "display_name": "Python 3",
   "language": "python",
   "name": "python3"
  },
  "language_info": {
   "codemirror_mode": {
    "name": "ipython",
    "version": 3
   },
   "file_extension": ".py",
   "mimetype": "text/x-python",
   "name": "python",
   "nbconvert_exporter": "python",
   "pygments_lexer": "ipython3",
   "version": "3.5.6"
  }
 },
 "nbformat": 4,
 "nbformat_minor": 2
}
